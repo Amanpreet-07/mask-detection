{
 "cells": [
  {
   "cell_type": "markdown",
   "metadata": {},
   "source": [
    "# 1. Import Dependencies"
   ]
  },
  {
   "cell_type": "code",
   "execution_count": 2,
   "metadata": {},
   "outputs": [
    {
     "name": "stdout",
     "output_type": "stream",
     "text": [
      "Requirement already satisfied: opencv-python in c:\\users\\amanpreet singh\\appdata\\local\\programs\\python\\python38\\lib\\site-packages (4.5.2.54)\n",
      "Requirement already satisfied: numpy>=1.17.3 in c:\\users\\amanpreet singh\\appdata\\local\\programs\\python\\python38\\lib\\site-packages (from opencv-python) (1.19.5)\n"
     ]
    },
    {
     "name": "stderr",
     "output_type": "stream",
     "text": [
      "WARNING: You are using pip version 21.1.2; however, version 21.1.3 is available.\n",
      "You should consider upgrading via the 'c:\\users\\amanpreet singh\\appdata\\local\\programs\\python\\python38\\python.exe -m pip install --upgrade pip' command.\n"
     ]
    }
   ],
   "source": [
    "!pip install opencv-python"
   ]
  },
  {
   "cell_type": "code",
   "execution_count": 1,
   "metadata": {},
   "outputs": [],
   "source": [
    "import cv2 \n",
    "\n",
    "import uuid\n",
    "\n",
    "import os\n",
    "\n",
    "import time"
   ]
  },
  {
   "cell_type": "markdown",
   "metadata": {},
   "source": [
    "# 2. Define Images to Collect"
   ]
  },
  {
   "cell_type": "code",
   "execution_count": 4,
   "metadata": {},
   "outputs": [],
   "source": [
    "labels = ['mask','Nomask']\n",
    "\n",
    "#number_imgs = 10"
   ]
  },
  {
   "cell_type": "markdown",
   "metadata": {},
   "source": [
    "# 3. Setup Folders "
   ]
  },
  {
   "cell_type": "code",
   "execution_count": 5,
   "metadata": {},
   "outputs": [],
   "source": [
    "IMAGES_PATH = os.path.join('Tensorflow', 'workspace', 'images', 'collectedimages')"
   ]
  },
  {
   "cell_type": "code",
   "execution_count": 6,
   "metadata": {},
   "outputs": [],
   "source": [
    "if not os.path.exists(IMAGES_PATH):\n",
    "    if os.name == 'nt':\n",
    "         !mkdir {IMAGES_PATH}\n",
    "for label in labels:\n",
    "    path = os.path.join(IMAGES_PATH, label)\n",
    "    if not os.path.exists(path):\n",
    "        !mkdir {path}"
   ]
  },
  {
   "cell_type": "markdown",
   "metadata": {},
   "source": [
    "# 4. Capture Images"
   ]
  },
  {
   "cell_type": "code",
   "execution_count": 27,
   "metadata": {},
   "outputs": [
    {
     "name": "stdout",
     "output_type": "stream",
     "text": [
      "Collecting images for Iphone\n",
      "Collecting image 0\n",
      "Collecting image 1\n",
      "Collecting image 2\n",
      "Collecting image 3\n",
      "Collecting image 4\n"
     ]
    }
   ],
   "source": [
    "for label in labels:\n",
    "    cap = cv2.VideoCapture(0)\n",
    "    print('Collecting images for {}'.format(label))\n",
    "    time.sleep(5)\n",
    "    for imgnum in range(number_imgs):\n",
    "        print('Collecting image {}'.format(imgnum))\n",
    "        ret, frame = cap.read()\n",
    "        imgname = os.path.join(IMAGES_PATH,label,label+'.'+'{}.jpg'.format(str(uuid.uuid1())))\n",
    "        cv2.imwrite(imgname, frame)\n",
    "        cv2.imshow('frame', frame)\n",
    "        time.sleep(2)\n",
    "\n",
    "        if cv2.waitKey(1) & 0xFF == ord('q'):\n",
    "            break\n",
    "cap.release()\n",
    "cv2.destroyAllWindows()"
   ]
  },
  {
   "cell_type": "markdown",
   "metadata": {},
   "source": [
    "# 5. Image Labelling"
   ]
  },
  {
   "cell_type": "code",
   "execution_count": 7,
   "metadata": {},
   "outputs": [
    {
     "name": "stdout",
     "output_type": "stream",
     "text": [
      "Requirement already satisfied: pyqt5 in c:\\users\\amanpreet singh\\appdata\\local\\programs\\python\\python38\\lib\\site-packages (5.15.4)"
     ]
    },
    {
     "name": "stderr",
     "output_type": "stream",
     "text": [
      "WARNING: You are using pip version 21.1.2; however, version 21.1.3 is available.\n",
      "You should consider upgrading via the 'c:\\users\\amanpreet singh\\appdata\\local\\programs\\python\\python38\\python.exe -m pip install --upgrade pip' command.\n"
     ]
    },
    {
     "name": "stdout",
     "output_type": "stream",
     "text": [
      "\n",
      "Requirement already satisfied: lxml in c:\\users\\amanpreet singh\\appdata\\local\\programs\\python\\python38\\lib\\site-packages (4.6.3)\n",
      "Requirement already satisfied: PyQt5-sip<13,>=12.8 in c:\\users\\amanpreet singh\\appdata\\local\\programs\\python\\python38\\lib\\site-packages (from pyqt5) (12.9.0)\n",
      "Requirement already satisfied: PyQt5-Qt5>=5.15 in c:\\users\\amanpreet singh\\appdata\\local\\programs\\python\\python38\\lib\\site-packages (from pyqt5) (5.15.2)\n"
     ]
    }
   ],
   "source": [
    "!pip install --upgrade pyqt5 lxml"
   ]
  },
  {
   "cell_type": "code",
   "execution_count": 9,
   "metadata": {},
   "outputs": [],
   "source": [
    "LABELIMG_PATH = os.path.join('Tensorflow', 'labelimg')"
   ]
  },
  {
   "cell_type": "code",
   "execution_count": 33,
   "metadata": {},
   "outputs": [],
   "source": [
    "if not os.path.exists(LABELIMG_PATH):\n",
    "    !mkdir {LABELIMG_PATH}\n",
    "    !git clone https://github.com/tzutalin/labelImg {LABELIMG_PATH}"
   ]
  },
  {
   "cell_type": "code",
   "execution_count": 10,
   "metadata": {},
   "outputs": [],
   "source": [
    "if os.name =='nt':\n",
    "    !cd {LABELIMG_PATH} && pyrcc5 -o libs/resources.py resources.qrc"
   ]
  },
  {
   "cell_type": "code",
   "execution_count": 11,
   "metadata": {},
   "outputs": [
    {
     "name": "stdout",
     "output_type": "stream",
     "text": [
      "Cancel creation.\n",
      "Cancel creation.\n",
      "Cancel creation.\n",
      "Image:D:\\CV\\TFOD\\Tensorflow\\workspace\\images\\collectedimages\\mask\\10.jpg -> Annotation:D:/CV/TFOD/Tensorflow/workspace/images/collectedimages/Nomask/10.xml\n",
      "Image:D:\\CV\\TFOD\\Tensorflow\\workspace\\images\\collectedimages\\Nomask\\SAVE_2019.jpeg -> Annotation:D:/CV/TFOD/Tensorflow/workspace/images/collectedimages/Nomask/SAVE_2019.xml\n",
      "Image:D:\\CV\\TFOD\\Tensorflow\\workspace\\images\\collectedimages\\mask\\1.jpg -> Annotation:D:/CV/TFOD/Tensorflow/workspace/images/collectedimages/mask/1.xml\n",
      "Image:D:\\CV\\TFOD\\Tensorflow\\workspace\\images\\collectedimages\\mask\\2.jpeg -> Annotation:D:/CV/TFOD/Tensorflow/workspace/images/collectedimages/mask/2.xml\n",
      "Image:D:\\CV\\TFOD\\Tensorflow\\workspace\\images\\collectedimages\\mask\\3.jpg -> Annotation:D:/CV/TFOD/Tensorflow/workspace/images/collectedimages/mask/3.xml\n",
      "Image:D:\\CV\\TFOD\\Tensorflow\\workspace\\images\\collectedimages\\mask\\4.jpg -> Annotation:D:/CV/TFOD/Tensorflow/workspace/images/collectedimages/mask/4.xml\n",
      "Image:D:\\CV\\TFOD\\Tensorflow\\workspace\\images\\collectedimages\\mask\\5.jpg -> Annotation:D:/CV/TFOD/Tensorflow/workspace/images/collectedimages/mask/5.xml"
     ]
    },
    {
     "name": "stderr",
     "output_type": "stream",
     "text": [
      "labelImg.py:971: DeprecationWarning: an integer is required (got type float).  Implicit conversion to integers using __int__ is deprecated, and may be removed in a future version of Python.\n",
      "  self.zoom_widget.setValue(value)\n",
      "labelImg.py:1025: DeprecationWarning: an integer is required (got type float).  Implicit conversion to integers using __int__ is deprecated, and may be removed in a future version of Python.\n",
      "  h_bar.setValue(new_h_bar_value)\n",
      "labelImg.py:1026: DeprecationWarning: an integer is required (got type float).  Implicit conversion to integers using __int__ is deprecated, and may be removed in a future version of Python.\n"
     ]
    },
    {
     "name": "stdout",
     "output_type": "stream",
     "text": [
      "\n",
      "Image:D:\\CV\\TFOD\\Tensorflow\\workspace\\images\\collectedimages\\mask\\6.jpg -> Annotation:D:/CV/TFOD/Tensorflow/workspace/images/collectedimages/mask/6.xml\n",
      "Cancel creation.\n",
      "Cancel creation.\n",
      "Image:D:\\CV\\TFOD\\Tensorflow\\workspace\\images\\collectedimages\\mask\\7.jpg -> Annotation:D:/CV/TFOD/Tensorflow/workspace/images/collectedimages/mask/7.xml\n",
      "Image:D:\\CV\\TFOD\\Tensorflow\\workspace\\images\\collectedimages\\mask\\8.jpg -> Annotation:D:/CV/TFOD/Tensorflow/workspace/images/collectedimages/mask/8.xml\n",
      "Cancel creation.\n",
      "Cancel creation.\n",
      "Image:D:\\CV\\TFOD\\Tensorflow\\workspace\\images\\collectedimages\\mask\\9.jpg -> Annotation:D:/CV/TFOD/Tensorflow/workspace/images/collectedimages/mask/9.xml\n",
      "Image:D:\\CV\\TFOD\\Tensorflow\\workspace\\images\\collectedimages\\mask\\10.jpg -> Annotation:D:/CV/TFOD/Tensorflow/workspace/images/collectedimages/mask/10.xml\n",
      "Image:D:\\CV\\TFOD\\Tensorflow\\workspace\\images\\collectedimages\\Nomask\\20140410-00.jpeg -> Annotation:D:/CV/TFOD/Tensorflow/workspace/images/collectedimages/Nomask/20140410-00.xml\n",
      "Image:D:\\CV\\TFOD\\Tensorflow\\workspace\\images\\collectedimages\\Nomask\\IMG-20181122-.jpg -> Annotation:D:/CV/TFOD/Tensorflow/workspace/images/collectedimages/Nomask/IMG-20181122-.xml\n",
      "Image:D:\\CV\\TFOD\\Tensorflow\\workspace\\images\\collectedimages\\Nomask\\IMG-20181122-WA.jpg -> Annotation:D:/CV/TFOD/Tensorflow/workspace/images/collectedimages/Nomask/IMG-20181122-WA.xml\n",
      "Image:D:\\CV\\TFOD\\Tensorflow\\workspace\\images\\collectedimages\\Nomask\\IMG-20190803-WA00.jpg -> Annotation:D:/CV/TFOD/Tensorflow/workspace/images/collectedimages/Nomask/IMG-20190803-WA00.xml\n",
      "Image:D:\\CV\\TFOD\\Tensorflow\\workspace\\images\\collectedimages\\Nomask\\IMG-20190804-WA.jpg -> Annotation:D:/CV/TFOD/Tensorflow/workspace/images/collectedimages/Nomask/IMG-20190804-WA.xml\n",
      "Image:D:\\CV\\TFOD\\Tensorflow\\workspace\\images\\collectedimages\\Nomask\\IMG_20150816_1733.jpg -> Annotation:D:/CV/TFOD/Tensorflow/workspace/images/collectedimages/Nomask/IMG_20150816_1733.xml\n",
      "Image:D:\\CV\\TFOD\\Tensorflow\\workspace\\images\\collectedimages\\Nomask\\IMG_20181129_142527.jpg -> Annotation:D:/CV/TFOD/Tensorflow/workspace/images/collectedimages/Nomask/IMG_20181129_142527.xml\n",
      "Image:D:\\CV\\TFOD\\Tensorflow\\workspace\\images\\collectedimages\\Nomask\\SAVE_2019.jpeg -> Annotation:D:/CV/TFOD/Tensorflow/workspace/images/collectedimages/Nomask/SAVE_2019.xml\n",
      "Cancel creation.\n",
      "Image:D:\\CV\\TFOD\\Tensorflow\\workspace\\images\\collectedimages\\Nomask\\WIN_20200318_.jpg -> Annotation:D:/CV/TFOD/Tensorflow/workspace/images/collectedimages/Nomask/WIN_20200318_.xml\n",
      "Image:D:\\CV\\TFOD\\Tensorflow\\workspace\\images\\collectedimages\\Nomask\\20160917_18521.jpg -> Annotation:D:/CV/TFOD/Tensorflow/workspace/images/collectedimages/Nomask/20160917_18521.xml\n"
     ]
    },
    {
     "name": "stderr",
     "output_type": "stream",
     "text": [
      "  v_bar.setValue(new_v_bar_value)\n",
      "labelImg.py:965: DeprecationWarning: an integer is required (got type float).  Implicit conversion to integers using __int__ is deprecated, and may be removed in a future version of Python.\n",
      "  bar.setValue(bar.value() + bar.singleStep() * units)\n"
     ]
    }
   ],
   "source": [
    "!cd {LABELIMG_PATH} && python labelImg.py"
   ]
  },
  {
   "cell_type": "code",
   "execution_count": null,
   "metadata": {},
   "outputs": [],
   "source": []
  }
 ],
 "metadata": {
  "kernelspec": {
   "display_name": "tfod",
   "language": "python",
   "name": "tfod"
  },
  "language_info": {
   "codemirror_mode": {
    "name": "ipython",
    "version": 3
   },
   "file_extension": ".py",
   "mimetype": "text/x-python",
   "name": "python",
   "nbconvert_exporter": "python",
   "pygments_lexer": "ipython3",
   "version": "3.8.8"
  }
 },
 "nbformat": 4,
 "nbformat_minor": 2
}
